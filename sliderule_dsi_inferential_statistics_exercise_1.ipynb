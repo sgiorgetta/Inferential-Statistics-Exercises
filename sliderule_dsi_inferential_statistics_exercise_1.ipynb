{
 "cells": [
  {
   "cell_type": "markdown",
   "metadata": {},
   "source": [
    "# Hello, _nbpresent_!"
   ]
  },
  {
   "cell_type": "code",
   "execution_count": 1,
   "metadata": {
    "collapsed": false
   },
   "outputs": [
    {
     "data": {
      "text/plain": [
       "'3.0.2'"
      ]
     },
     "execution_count": 1,
     "metadata": {},
     "output_type": "execute_result"
    }
   ],
   "source": [
    "import nbpresent\n",
    "nbpresent.__version__"
   ]
  },
  {
   "cell_type": "markdown",
   "metadata": {
    "nbpresent": {
     "id": "581f1088-e3d1-4987-ada1-64d73a776ea0"
    },
    "slideshow": {
     "slide_type": "slide"
    }
   },
   "source": [
    "# What is the True Normal Human Body Temperature? \n",
    "\n",
    "#### Background\n",
    "\n",
    "The mean normal body temperature was held to be 37$^{\\circ}$C or 98.6$^{\\circ}$F for more than 120 years since it was first conceptualized and reported by Carl Wunderlich in a famous 1868 book. But, is this value statistically correct?"
   ]
  },
  {
   "cell_type": "markdown",
   "metadata": {
    "nbpresent": {
     "id": "e634692f-c064-427f-bf9b-52738ee18422"
    },
    "slideshow": {
     "slide_type": "skip"
    }
   },
   "source": [
    "<div class=\"span5 alert alert-info\">\n",
    "<h3>Exercises</h3>\n",
    "\n",
    "<p>In this exercise, you will analyze a dataset of human body temperatures and employ the concepts of hypothesis testing, confidence intervals, and statistical significance.</p>\n",
    "\n",
    "<p>Answer the following questions <b>in this notebook below and submit to your Github account</b>.</p> \n",
    "\n",
    "<ol>\n",
    "<li>  Is the distribution of body temperatures normal? \n",
    "    <ul>\n",
    "    <li> Although this is not a requirement for CLT to hold (read CLT carefully), it gives us some peace of mind that the population may also be normally distributed if we assume that this sample is representative of the population.\n",
    "    </ul>\n",
    "<li>  Is the sample size large? Are the observations independent?\n",
    "    <ul>\n",
    "    <li> Remember that this is a condition for the CLT, and hence the statistical tests we are using, to apply.\n",
    "    </ul>\n",
    "<li>  Is the true population mean really 98.6 degrees F?\n",
    "    <ul>\n",
    "    <li> Would you use a one-sample or two-sample test? Why?\n",
    "    <li> In this situation, is it appropriate to use the $t$ or $z$ statistic? \n",
    "    <li> Now try using the other test. How is the result be different? Why?\n",
    "    </ul>\n",
    "<li>  At what temperature should we consider someone's temperature to be \"abnormal\"?\n",
    "    <ul>\n",
    "    <li> Start by computing the margin of error and confidence interval.\n",
    "    </ul>\n",
    "<li>  Is there a significant difference between males and females in normal temperature?\n",
    "    <ul>\n",
    "    <li> What test did you use and why?\n",
    "    <li> Write a story with your conclusion in the context of the original problem.\n",
    "    </ul>\n",
    "</ol>\n",
    "\n",
    "You can include written notes in notebook cells using Markdown: \n",
    "   - In the control panel at the top, choose Cell > Cell Type > Markdown\n",
    "   - Markdown syntax: http://nestacms.com/docs/creating-content/markdown-cheat-sheet\n",
    "\n",
    "#### Resources\n",
    "\n",
    "+ Information and data sources: http://www.amstat.org/publications/jse/datasets/normtemp.txt, http://www.amstat.org/publications/jse/jse_data_archive.htm\n",
    "+ Markdown syntax: http://nestacms.com/docs/creating-content/markdown-cheat-sheet\n",
    "\n",
    "****"
   ]
  },
  {
   "cell_type": "code",
   "execution_count": 2,
   "metadata": {
    "collapsed": true,
    "nbpresent": {
     "id": "6d8775a9-389c-4677-acaf-70d6ea7dbc18"
    }
   },
   "outputs": [],
   "source": [
    "import pandas as pd\n",
    "\n",
    "df = pd.read_csv('data/human_body_temperature.csv')"
   ]
  },
  {
   "cell_type": "code",
   "execution_count": 3,
   "metadata": {
    "collapsed": false,
    "nbpresent": {
     "id": "a70c886c-f472-4677-95f0-51aee8c2b06f"
    }
   },
   "outputs": [],
   "source": [
    "%matplotlib inline\n",
    "\n",
    "# import some more useful packages\n",
    "import matplotlib.pyplot as plt\n",
    "import numpy as np\n",
    "import scipy.stats \n",
    "import seaborn as sns\n",
    "\n",
    "from scipy.stats import norm"
   ]
  },
  {
   "cell_type": "code",
   "execution_count": 4,
   "metadata": {
    "collapsed": false,
    "nbpresent": {
     "id": "553c1c60-2e58-4d9e-9baf-8563e41fad77"
    }
   },
   "outputs": [
    {
     "data": {
      "text/html": [
       "<div>\n",
       "<table border=\"1\" class=\"dataframe\">\n",
       "  <thead>\n",
       "    <tr style=\"text-align: right;\">\n",
       "      <th></th>\n",
       "      <th>temperature</th>\n",
       "      <th>gender</th>\n",
       "      <th>heart_rate</th>\n",
       "    </tr>\n",
       "  </thead>\n",
       "  <tbody>\n",
       "    <tr>\n",
       "      <th>0</th>\n",
       "      <td>99.3</td>\n",
       "      <td>F</td>\n",
       "      <td>68.0</td>\n",
       "    </tr>\n",
       "    <tr>\n",
       "      <th>1</th>\n",
       "      <td>98.4</td>\n",
       "      <td>F</td>\n",
       "      <td>81.0</td>\n",
       "    </tr>\n",
       "    <tr>\n",
       "      <th>2</th>\n",
       "      <td>97.8</td>\n",
       "      <td>M</td>\n",
       "      <td>73.0</td>\n",
       "    </tr>\n",
       "    <tr>\n",
       "      <th>3</th>\n",
       "      <td>99.2</td>\n",
       "      <td>F</td>\n",
       "      <td>66.0</td>\n",
       "    </tr>\n",
       "    <tr>\n",
       "      <th>4</th>\n",
       "      <td>98.0</td>\n",
       "      <td>F</td>\n",
       "      <td>73.0</td>\n",
       "    </tr>\n",
       "  </tbody>\n",
       "</table>\n",
       "</div>"
      ],
      "text/plain": [
       "   temperature gender  heart_rate\n",
       "0         99.3      F        68.0\n",
       "1         98.4      F        81.0\n",
       "2         97.8      M        73.0\n",
       "3         99.2      F        66.0\n",
       "4         98.0      F        73.0"
      ]
     },
     "execution_count": 4,
     "metadata": {},
     "output_type": "execute_result"
    }
   ],
   "source": [
    "df.head()"
   ]
  },
  {
   "cell_type": "markdown",
   "metadata": {
    "nbpresent": {
     "id": "a9c1a593-d8fd-470d-8eb4-1fd2d9a5d477"
    },
    "slideshow": {
     "slide_type": "skip"
    }
   },
   "source": [
    "# 1.  Is the distribution of body temperatures normal?"
   ]
  },
  {
   "cell_type": "code",
   "execution_count": 5,
   "metadata": {
    "collapsed": false,
    "nbpresent": {
     "id": "698278e5-86a8-4898-9453-4464c260387a"
    },
    "slideshow": {
     "slide_type": "slide"
    }
   },
   "outputs": [
    {
     "data": {
      "text/plain": [
       "<matplotlib.text.Text at 0xbc45208>"
      ]
     },
     "execution_count": 5,
     "metadata": {},
     "output_type": "execute_result"
    },
    {
     "data": {
      "image/png": "[encoded data removed]",
      "text/plain": [
       "<matplotlib.figure.Figure at 0xbbcc128>"
      ]
     },
     "metadata": {},
     "output_type": "display_data"
    }
   ],
   "source": [
    "# create a df with just the temperature samples and call it tdf\n",
    "tdf = df.temperature\n",
    "# get a distribution plot of the data\n",
    "sns.distplot(tdf, fit=norm,kde=False)\n",
    "plt.title('Distribution of Body Temperature: 1996 Allen Shoemaker Dataset')"
   ]
  },
  {
   "cell_type": "markdown",
   "metadata": {
    "nbpresent": {
     "id": "6b9d5e66-b308-4035-b92a-5f75c64d6aa7"
    },
    "slideshow": {
     "slide_type": "skip"
    }
   },
   "source": [
    "The distribution appears to be somewhat normal.  Let's do a D-Agostino and Pearson's test to determine whether or not the sample comes from a normal distribution.  Let's assume the null hypothesis that the sample does come from a normal distribution. If the probability of getting these results is low (below 5%), we will reject the null hypothesis and conclude the distribution is not normal."
   ]
  },
  {
   "cell_type": "code",
   "execution_count": 6,
   "metadata": {
    "collapsed": false,
    "nbpresent": {
     "id": "edcfd05d-8ce9-4bcc-9ee9-51f66f024623"
    },
    "slideshow": {
     "slide_type": "skip"
    }
   },
   "outputs": [
    {
     "data": {
      "text/plain": [
       "NormaltestResult(statistic=2.7038014333192031, pvalue=0.2587479863488254)"
      ]
     },
     "execution_count": 6,
     "metadata": {},
     "output_type": "execute_result"
    }
   ],
   "source": [
    "# test for normality\n",
    "scipy.stats.normaltest(tdf)"
   ]
  },
  {
   "cell_type": "markdown",
   "metadata": {
    "nbpresent": {
     "id": "bb1ab1fd-2dc2-494a-bfbf-e459384a6b3c"
    },
    "slideshow": {
     "slide_type": "skip"
    }
   },
   "source": [
    "Since the probability is approximately 26%, we do not reject the null hypothesis and conclude that the data does represent a normal distribution."
   ]
  },
  {
   "cell_type": "markdown",
   "metadata": {
    "nbpresent": {
     "id": "1e84db4b-65fe-4743-8b50-ec8bc9c2aa51"
    },
    "slideshow": {
     "slide_type": "skip"
    }
   },
   "source": [
    "Another way to test for normality is to do a probabiity plot that calculates a best fit line for the data."
   ]
  },
  {
   "cell_type": "code",
   "execution_count": 7,
   "metadata": {
    "collapsed": false,
    "nbpresent": {
     "id": "63e9a6b3-d06c-45db-abe3-a2fcd8020424"
    },
    "scrolled": true,
    "slideshow": {
     "slide_type": "skip"
    }
   },
   "outputs": [
    {
     "data": {
      "image/png": "[encoded data removed]",
      "text/plain": [
       "<matplotlib.figure.Figure at 0xbcb9438>"
      ]
     },
     "metadata": {},
     "output_type": "display_data"
    }
   ],
   "source": [
    "# create the probability plot\n",
    "scipy.stats.probplot(tdf, dist=\"norm\", plot=plt)\n",
    "plt.show()"
   ]
  },
  {
   "cell_type": "markdown",
   "metadata": {
    "nbpresent": {
     "id": "2adaf0a0-2ef5-4fb0-8e7f-fe6da776b788"
    }
   },
   "source": [
    "**The normal probability plot approximates a straight line indicating normality.**  There is one data point that appears to not fit and we may want to investigate whether this data point is an anomaly or reporting error that may need to be removed from the data set.  This is the 100.8 degrees Fahrenheit observation.  It could be that the person was actually sick and thus this data point should not be included in the data set of samples from healthy individuals. Let's create a new database without that data point and compare the results."
   ]
  },
  {
   "cell_type": "code",
   "execution_count": 8,
   "metadata": {
    "collapsed": false,
    "nbpresent": {
     "id": "34b36581-456c-46a1-ac46-0e228345563f"
    },
    "slideshow": {
     "slide_type": "skip"
    }
   },
   "outputs": [],
   "source": [
    "tdf_remove_outlier = tdf[tdf != 100.8]"
   ]
  },
  {
   "cell_type": "code",
   "execution_count": 9,
   "metadata": {
    "collapsed": false,
    "nbpresent": {
     "id": "426d1a21-7d7e-4b80-8880-2c758cbab996"
    },
    "scrolled": true,
    "slideshow": {
     "slide_type": "skip"
    }
   },
   "outputs": [
    {
     "data": {
      "image/png": "[encoded data removed]",
      "text/plain": [
       "<matplotlib.figure.Figure at 0xbf4c438>"
      ]
     },
     "metadata": {},
     "output_type": "display_data"
    }
   ],
   "source": [
    "scipy.stats.probplot(tdf_remove_outlier, dist=\"norm\", plot=plt)\n",
    "plt.show()"
   ]
  },
  {
   "cell_type": "code",
   "execution_count": 10,
   "metadata": {
    "collapsed": false,
    "nbpresent": {
     "id": "425944f3-7cc0-4fb1-b433-557b396fbc23"
    },
    "scrolled": true,
    "slideshow": {
     "slide_type": "skip"
    }
   },
   "outputs": [
    {
     "data": {
      "text/plain": [
       "((array([-2.55445479, -2.22902648, -2.0419783 , -1.90719589, -1.80015121,\n",
       "         -1.71047373, -1.63275826, -1.56381343, -1.50159038, -1.44469181,\n",
       "         -1.39212017, -1.3431372 , -1.29718048, -1.2538112 , -1.21268003,\n",
       "         -1.17350409, -1.13605091, -1.10012698, -1.06556939, -1.03223961,\n",
       "         -1.00001877, -0.96880405, -0.93850586, -0.90904562, -0.88035396,\n",
       "         -0.85236935, -0.82503685, -0.79830725, -0.77213622, -0.74648367,\n",
       "         -0.72131321, -0.69659166, -0.67228871, -0.64837651, -0.62482945,\n",
       "         -0.60162387, -0.57873784, -0.55615102, -0.53384444, -0.51180041,\n",
       "         -0.49000234, -0.46843466, -0.44708273, -0.42593273, -0.40497157,\n",
       "         -0.38418687, -0.36356684, -0.34310027, -0.32277642, -0.30258504,\n",
       "         -0.28251629, -0.2625607 , -0.24270913, -0.22295275, -0.20328303,\n",
       "         -0.18369165, -0.16417053, -0.14471177, -0.12530767, -0.10595063,\n",
       "         -0.08663321, -0.06734807, -0.04808795, -0.02884566, -0.00961403,\n",
       "          0.00961403,  0.02884566,  0.04808795,  0.06734807,  0.08663321,\n",
       "          0.10595063,  0.12530767,  0.14471177,  0.16417053,  0.18369165,\n",
       "          0.20328303,  0.22295275,  0.24270913,  0.2625607 ,  0.28251629,\n",
       "          0.30258504,  0.32277642,  0.34310027,  0.36356684,  0.38418687,\n",
       "          0.40497157,  0.42593273,  0.44708273,  0.46843466,  0.49000234,\n",
       "          0.51180041,  0.53384444,  0.55615102,  0.57873784,  0.60162387,\n",
       "          0.62482945,  0.64837651,  0.67228871,  0.69659166,  0.72131321,\n",
       "          0.74648367,  0.77213622,  0.79830725,  0.82503685,  0.85236935,\n",
       "          0.88035396,  0.90904562,  0.93850586,  0.96880405,  1.00001877,\n",
       "          1.03223961,  1.06556939,  1.10012698,  1.13605091,  1.17350409,\n",
       "          1.21268003,  1.2538112 ,  1.29718048,  1.3431372 ,  1.39212017,\n",
       "          1.44469181,  1.50159038,  1.56381343,  1.63275826,  1.71047373,\n",
       "          1.80015121,  1.90719589,  2.0419783 ,  2.22902648,  2.55445479]),\n",
       "  array([  96.3,   96.4,   96.7,   96.7,   96.8,   96.9,   97. ,   97.1,\n",
       "           97.1,   97.1,   97.2,   97.2,   97.2,   97.3,   97.4,   97.4,\n",
       "           97.4,   97.4,   97.4,   97.5,   97.5,   97.6,   97.6,   97.6,\n",
       "           97.6,   97.7,   97.7,   97.7,   97.8,   97.8,   97.8,   97.8,\n",
       "           97.8,   97.8,   97.8,   97.9,   97.9,   97.9,   97.9,   97.9,\n",
       "           98. ,   98. ,   98. ,   98. ,   98. ,   98. ,   98. ,   98. ,\n",
       "           98. ,   98. ,   98. ,   98.1,   98.1,   98.1,   98.2,   98.2,\n",
       "           98.2,   98.2,   98.2,   98.2,   98.2,   98.2,   98.2,   98.2,\n",
       "           98.3,   98.3,   98.3,   98.3,   98.3,   98.4,   98.4,   98.4,\n",
       "           98.4,   98.4,   98.4,   98.4,   98.4,   98.4,   98.5,   98.5,\n",
       "           98.5,   98.6,   98.6,   98.6,   98.6,   98.6,   98.6,   98.6,\n",
       "           98.6,   98.6,   98.6,   98.7,   98.7,   98.7,   98.7,   98.7,\n",
       "           98.7,   98.7,   98.7,   98.8,   98.8,   98.8,   98.8,   98.8,\n",
       "           98.8,   98.8,   98.8,   98.8,   98.8,   98.9,   98.9,   99. ,\n",
       "           99. ,   99. ,   99. ,   99. ,   99.1,   99.1,   99.1,   99.2,\n",
       "           99.2,   99.2,   99.3,   99.3,   99.4,   99.4,   99.5,   99.9,\n",
       "          100. ,  100.8])),\n",
       " (0.73603123655066416, 98.249230769230778, 0.99157200365856835))"
      ]
     },
     "execution_count": 10,
     "metadata": {},
     "output_type": "execute_result"
    }
   ],
   "source": [
    "scipy.stats.probplot(tdf, dist=\"norm\")"
   ]
  },
  {
   "cell_type": "raw",
   "metadata": {
    "nbpresent": {
     "id": "220e9cbb-6fb6-444e-b079-7353c50ecc04"
    },
    "slideshow": {
     "slide_type": "skip"
    }
   },
   "source": [
    "For the original data frame with the outlier, the slope is 0.74 and the b intercept is 98.25 and the square root of the coefficient of determination is 0.99."
   ]
  },
  {
   "cell_type": "code",
   "execution_count": 11,
   "metadata": {
    "collapsed": false,
    "nbpresent": {
     "id": "97c45b91-3cda-4a5e-95f2-fbfa1096ebc0"
    },
    "slideshow": {
     "slide_type": "skip"
    }
   },
   "outputs": [
    {
     "data": {
      "text/plain": [
       "((array([-2.55177249, -2.22603746, -2.03878185, -1.903833  , -1.79664454,\n",
       "         -1.70683782, -1.62900324, -1.55994675, -1.49761773, -1.44061765,\n",
       "         -1.38794806, -1.33887001, -1.29282056, -1.24936047, -1.20814007,\n",
       "         -1.16887618, -1.1313361 , -1.09532612, -1.06068315, -1.0272685 ,\n",
       "         -0.99496316, -0.96366418, -0.93328188, -0.90373755, -0.87496176,\n",
       "         -0.84689286, -0.81947585, -0.79266143, -0.7664052 , -0.740667  ,\n",
       "         -0.71541037, -0.69060208, -0.66621174, -0.64221145, -0.61857552,\n",
       "         -0.59528023, -0.57230362, -0.54962526, -0.52722613, -0.50508848,\n",
       "         -0.48319564, -0.46153201, -0.44008286, -0.41883432, -0.39777322,\n",
       "         -0.37688713, -0.35616417, -0.33559307, -0.31516302, -0.29486368,\n",
       "         -0.27468514, -0.25461784, -0.23465256, -0.21478039, -0.19499268,\n",
       "         -0.17528104, -0.15563727, -0.13605339, -0.11652155, -0.09703407,\n",
       "         -0.07758337, -0.05816198, -0.03876251, -0.01937761,  0.        ,\n",
       "          0.01937761,  0.03876251,  0.05816198,  0.07758337,  0.09703407,\n",
       "          0.11652155,  0.13605339,  0.15563727,  0.17528104,  0.19499268,\n",
       "          0.21478039,  0.23465256,  0.25461784,  0.27468514,  0.29486368,\n",
       "          0.31516302,  0.33559307,  0.35616417,  0.37688713,  0.39777322,\n",
       "          0.41883432,  0.44008286,  0.46153201,  0.48319564,  0.50508848,\n",
       "          0.52722613,  0.54962526,  0.57230362,  0.59528023,  0.61857552,\n",
       "          0.64221145,  0.66621174,  0.69060208,  0.71541037,  0.740667  ,\n",
       "          0.7664052 ,  0.79266143,  0.81947585,  0.84689286,  0.87496176,\n",
       "          0.90373755,  0.93328188,  0.96366418,  0.99496316,  1.0272685 ,\n",
       "          1.06068315,  1.09532612,  1.1313361 ,  1.16887618,  1.20814007,\n",
       "          1.24936047,  1.29282056,  1.33887001,  1.38794806,  1.44061765,\n",
       "          1.49761773,  1.55994675,  1.62900324,  1.70683782,  1.79664454,\n",
       "          1.903833  ,  2.03878185,  2.22603746,  2.55177249]),\n",
       "  array([  96.3,   96.4,   96.7,   96.7,   96.8,   96.9,   97. ,   97.1,\n",
       "           97.1,   97.1,   97.2,   97.2,   97.2,   97.3,   97.4,   97.4,\n",
       "           97.4,   97.4,   97.4,   97.5,   97.5,   97.6,   97.6,   97.6,\n",
       "           97.6,   97.7,   97.7,   97.7,   97.8,   97.8,   97.8,   97.8,\n",
       "           97.8,   97.8,   97.8,   97.9,   97.9,   97.9,   97.9,   97.9,\n",
       "           98. ,   98. ,   98. ,   98. ,   98. ,   98. ,   98. ,   98. ,\n",
       "           98. ,   98. ,   98. ,   98.1,   98.1,   98.1,   98.2,   98.2,\n",
       "           98.2,   98.2,   98.2,   98.2,   98.2,   98.2,   98.2,   98.2,\n",
       "           98.3,   98.3,   98.3,   98.3,   98.3,   98.4,   98.4,   98.4,\n",
       "           98.4,   98.4,   98.4,   98.4,   98.4,   98.4,   98.5,   98.5,\n",
       "           98.5,   98.6,   98.6,   98.6,   98.6,   98.6,   98.6,   98.6,\n",
       "           98.6,   98.6,   98.6,   98.7,   98.7,   98.7,   98.7,   98.7,\n",
       "           98.7,   98.7,   98.7,   98.8,   98.8,   98.8,   98.8,   98.8,\n",
       "           98.8,   98.8,   98.8,   98.8,   98.8,   98.9,   98.9,   99. ,\n",
       "           99. ,   99. ,   99. ,   99. ,   99.1,   99.1,   99.1,   99.2,\n",
       "           99.2,   99.2,   99.3,   99.3,   99.4,   99.4,   99.5,   99.9,\n",
       "          100. ])),\n",
       " (0.70495521068513245, 98.229457364341087, 0.99411182962139744))"
      ]
     },
     "execution_count": 11,
     "metadata": {},
     "output_type": "execute_result"
    }
   ],
   "source": [
    "scipy.stats.probplot(tdf_remove_outlier, dist=\"norm\")"
   ]
  },
  {
   "cell_type": "markdown",
   "metadata": {
    "nbpresent": {
     "id": "3b8edc34-9057-4e30-8520-8b2fea923af6"
    },
    "slideshow": {
     "slide_type": "skip"
    }
   },
   "source": [
    "After the outlier is removed, the slope is 0.71, the b intercept is 98.23 and the square root of the coefficient of determination is 0.99.  There is very little change in the values and we conclude that the \"outlier\" does not influence our results."
   ]
  },
  {
   "cell_type": "markdown",
   "metadata": {
    "nbpresent": {
     "id": "08dd37ca-fd3d-465d-b37b-14e1e5483d71"
    },
    "slideshow": {
     "slide_type": "skip"
    }
   },
   "source": [
    "# 2.  Is the sample size large? Are the observations independent?"
   ]
  },
  {
   "cell_type": "code",
   "execution_count": 12,
   "metadata": {
    "collapsed": false,
    "nbpresent": {
     "id": "6cdb9070-fa27-4127-98d4-548f06200dd7"
    },
    "slideshow": {
     "slide_type": "skip"
    }
   },
   "outputs": [
    {
     "data": {
      "text/plain": [
       "130"
      ]
     },
     "execution_count": 12,
     "metadata": {},
     "output_type": "execute_result"
    }
   ],
   "source": [
    "len(tdf)"
   ]
  },
  {
   "cell_type": "markdown",
   "metadata": {
    "nbpresent": {
     "id": "3f19e380-4d5c-4177-ab17-ef0be3e80aa3"
    },
    "slideshow": {
     "slide_type": "skip"
    }
   },
   "source": [
    "The sample size is 130.  The general rule of thumb is that any sample size greater than 30 is considered sufficiently large enough for utilizing the z-statistic and associated calculations."
   ]
  },
  {
   "cell_type": "markdown",
   "metadata": {
    "nbpresent": {
     "id": "36dd0181-8ed4-492c-9815-f9b126192998"
    },
    "slideshow": {
     "slide_type": "skip"
    }
   },
   "source": [
    "Let's check to see if there is any correlation between the temperature and heart rate observations."
   ]
  },
  {
   "cell_type": "code",
   "execution_count": 13,
   "metadata": {
    "collapsed": false,
    "nbpresent": {
     "id": "d261401d-2310-4c16-aad2-336673e3bdff"
    },
    "scrolled": false,
    "slideshow": {
     "slide_type": "skip"
    }
   },
   "outputs": [
    {
     "data": {
      "text/plain": [
       "<seaborn.axisgrid.FacetGrid at 0xbf94ac8>"
      ]
     },
     "execution_count": 13,
     "metadata": {},
     "output_type": "execute_result"
    },
    {
     "data": {
      "image/png": "[encoded data removed]",
      "text/plain": [
       "<matplotlib.figure.Figure at 0xc08be10>"
      ]
     },
     "metadata": {},
     "output_type": "display_data"
    }
   ],
   "source": [
    "# Plot the linear regression to get a feel for it\n",
    "sns.lmplot(x= 'temperature', y= 'heart_rate', hue='gender',data=df)"
   ]
  },
  {
   "cell_type": "code",
   "execution_count": 14,
   "metadata": {
    "collapsed": false,
    "nbpresent": {
     "id": "b1fc45cd-cda7-4640-8db2-79f90503d1a6"
    },
    "slideshow": {
     "slide_type": "skip"
    }
   },
   "outputs": [
    {
     "data": {
      "text/plain": [
       "(0.25365640272076417, 0.003591489250708233)"
      ]
     },
     "execution_count": 14,
     "metadata": {},
     "output_type": "execute_result"
    }
   ],
   "source": [
    "# Calculates a Pearson correlation coefficient and the p-value for testing non-correlation\n",
    "scipy.stats.pearsonr(df['temperature'],df['heart_rate'])"
   ]
  },
  {
   "cell_type": "markdown",
   "metadata": {
    "nbpresent": {
     "id": "68d6bf21-d5e6-4d09-aa78-4f05a6a458fd"
    },
    "slideshow": {
     "slide_type": "skip"
    }
   },
   "source": [
    "The coefficient factor is 0.25 and the p-value is 0.004.  Given the small p-value, we conclude that there is a positive correlation between body temperature and heart rate."
   ]
  },
  {
   "cell_type": "code",
   "execution_count": 15,
   "metadata": {
    "collapsed": false,
    "nbpresent": {
     "id": "ebdab2e9-e44f-4ee4-bac3-d3c3d8997ba3"
    },
    "slideshow": {
     "slide_type": "skip"
    }
   },
   "outputs": [
    {
     "data": {
      "text/plain": [
       "const         -166.284719\n",
       "temperature      2.443238\n",
       "dtype: float64"
      ]
     },
     "execution_count": 15,
     "metadata": {},
     "output_type": "execute_result"
    }
   ],
   "source": [
    "# creates a linear regression model to test for correlation between temperature and heart_rate observations\n",
    "import statsmodels.api as sm\n",
    "Y = df['heart_rate']\n",
    "X = df['temperature']\n",
    "X = sm.add_constant(X)\n",
    "model = sm.OLS(Y,X)\n",
    "results = model.fit()\n",
    "results.params"
   ]
  },
  {
   "cell_type": "markdown",
   "metadata": {
    "nbpresent": {
     "id": "1f8e9a04-184d-4cf0-91ff-1c004b2055f2"
    },
    "slideshow": {
     "slide_type": "skip"
    }
   },
   "source": [
    "The slope of the model is 2.44 and the b intercept is -166.28.\n",
    "\n",
    "heart_rate = 2.44 * temperature -166.28  "
   ]
  },
  {
   "cell_type": "markdown",
   "metadata": {
    "nbpresent": {
     "id": "0147dd90-b3db-4215-a7a1-b7448fe8d81e"
    },
    "slideshow": {
     "slide_type": "skip"
    }
   },
   "source": [
    "**The observations are not independent; there is a positive correlation between body temperature and heart rate.**"
   ]
  },
  {
   "cell_type": "markdown",
   "metadata": {
    "nbpresent": {
     "id": "ae987aff-5975-402e-8145-afb78d5601de"
    },
    "slideshow": {
     "slide_type": "slide"
    }
   },
   "source": [
    "# 3. Is the true population mean really 98.6 degrees F?"
   ]
  },
  {
   "cell_type": "markdown",
   "metadata": {
    "nbpresent": {
     "id": "ad44d2e1-dafc-4ff5-bc51-840876b387a1"
    },
    "slideshow": {
     "slide_type": "skip"
    }
   },
   "source": [
    "## Would you use a one sample or two sample test? Why?"
   ]
  },
  {
   "cell_type": "markdown",
   "metadata": {
    "nbpresent": {
     "id": "eafb0e47-1f9b-43e0-833e-f53a17c47c0f"
    },
    "slideshow": {
     "slide_type": "skip"
    }
   },
   "source": [
    "The one sample t-test tests for the null hypothesis that the mean of a sample of independent observations is equal to the given population mean.  The two sample t-test tests for the null hypothesis that two means from two separate samples are equal to one another.  We will use the one sample t-test to compare the mean of the samples to the \"known\" population mean."
   ]
  },
  {
   "cell_type": "markdown",
   "metadata": {
    "nbpresent": {
     "id": "cdc08a59-c75d-4056-88dd-beb059372f9d"
    },
    "slideshow": {
     "slide_type": "skip"
    }
   },
   "source": [
    "## In this situation, is it appropriate to use the  t or z  statistic?"
   ]
  },
  {
   "cell_type": "markdown",
   "metadata": {
    "nbpresent": {
     "id": "aa8c7072-773f-4ea0-8f16-197191677099"
    },
    "slideshow": {
     "slide_type": "skip"
    }
   },
   "source": [
    " If the standard deviation of the true population is not known, then it is best to use the t-statistic.  "
   ]
  },
  {
   "cell_type": "markdown",
   "metadata": {
    "nbpresent": {
     "id": "1e279357-8f0a-4ba0-9bc5-14a06b50c887"
    },
    "slideshow": {
     "slide_type": "slide"
    }
   },
   "source": [
    "**Calculate the t-statistic and corresponding pvalue.**"
   ]
  },
  {
   "cell_type": "code",
   "execution_count": 16,
   "metadata": {
    "collapsed": false,
    "nbpresent": {
     "id": "8a2ecf0d-cfe0-4444-b811-5aeba7285700"
    },
    "slideshow": {
     "slide_type": "slide"
    }
   },
   "outputs": [
    {
     "data": {
      "text/plain": [
       "Ttest_1sampResult(statistic=-5.4548232923645195, pvalue=2.4106320415561276e-07)"
      ]
     },
     "execution_count": 16,
     "metadata": {},
     "output_type": "execute_result"
    }
   ],
   "source": [
    "# use the one sample t-test\n",
    "# This is a two-sided test for the null hypothesis that the expected mean of a sample of independent observations is\n",
    "# equal to the given population mean.\n",
    "\n",
    "scipy.stats.ttest_1samp(tdf,98.6)"
   ]
  },
  {
   "cell_type": "markdown",
   "metadata": {
    "nbpresent": {
     "id": "1a743bba-2f93-4a2b-b7ed-b3e49a5ac857"
    },
    "slideshow": {
     "slide_type": "slide"
    }
   },
   "source": [
    "The t-statistic is -5.45 and the p-value is approximately 0."
   ]
  },
  {
   "cell_type": "markdown",
   "metadata": {
    "nbpresent": {
     "id": "581332b2-ef55-4f05-81eb-269c35406017"
    },
    "slideshow": {
     "slide_type": "slide"
    }
   },
   "source": [
    "Assume the null hypothesis that the true population mean is 98.6 degrees F.  Then what is the propability that the mean of a sample of independent observations would be 98.25 degrees F.  The p-value of 0 indicates that probability to be less than 5%.  Therefore we reject the null hypothesis and conclude that the true population mean is the mean of our sample distribution which is 98.25 degrees F."
   ]
  },
  {
   "cell_type": "markdown",
   "metadata": {
    "nbpresent": {
     "id": "4b177943-cce3-4f2b-a603-f3a02b0ede4d"
    },
    "slideshow": {
     "slide_type": "skip"
    }
   },
   "source": [
    "**Now calculate using the z-statistic and compare the results.**"
   ]
  },
  {
   "cell_type": "code",
   "execution_count": 17,
   "metadata": {
    "collapsed": false,
    "nbpresent": {
     "id": "c38c71d0-b94d-46e5-9506-f5c45b02f151"
    },
    "slideshow": {
     "slide_type": "skip"
    }
   },
   "outputs": [
    {
     "data": {
      "text/plain": [
       "-5.454823292364079"
      ]
     },
     "execution_count": 17,
     "metadata": {},
     "output_type": "execute_result"
    }
   ],
   "source": [
    "# calculate z score\n",
    "(tdf.mean() - 98.6)/(tdf.std()/130**0.5)"
   ]
  },
  {
   "cell_type": "markdown",
   "metadata": {
    "nbpresent": {
     "id": "dc3df922-3dac-4697-95ea-907ac10b1403"
    },
    "slideshow": {
     "slide_type": "skip"
    }
   },
   "source": [
    "**How do the results from each test differ? why?**"
   ]
  },
  {
   "cell_type": "markdown",
   "metadata": {
    "nbpresent": {
     "id": "49f5b787-e04b-4ed2-9994-0fa40eeb924f"
    },
    "slideshow": {
     "slide_type": "skip"
    }
   },
   "source": [
    "The t-statistic is -5.45 and the z-statistic is -5.45.  They are the same when the sample size is larger (>30). "
   ]
  },
  {
   "cell_type": "markdown",
   "metadata": {
    "nbpresent": {
     "id": "24531e4d-2265-485a-b6e1-717862b84861"
    },
    "slideshow": {
     "slide_type": "slide"
    }
   },
   "source": [
    "**We conclude that the true population mean of body temperature is 98.25 degrees F.**"
   ]
  },
  {
   "cell_type": "markdown",
   "metadata": {
    "nbpresent": {
     "id": "44dac2f1-9007-44b2-bfc9-852e684462ae"
    },
    "slideshow": {
     "slide_type": "slide"
    }
   },
   "source": [
    "# 4.  At what temperature should we consider someone's temperature to be \"abnormal\"?"
   ]
  },
  {
   "cell_type": "markdown",
   "metadata": {
    "nbpresent": {
     "id": "3a00eb5f-fecb-4045-8be7-6d9b96f03df5"
    },
    "slideshow": {
     "slide_type": "skip"
    }
   },
   "source": [
    "## Calculate the margin of error and confidence interval."
   ]
  },
  {
   "cell_type": "code",
   "execution_count": 18,
   "metadata": {
    "collapsed": false,
    "nbpresent": {
     "id": "3a27ecd7-f9b5-4318-92b3-c0bd41c53fac"
    },
    "slideshow": {
     "slide_type": "skip"
    }
   },
   "outputs": [],
   "source": [
    "# create a function called get_ci that calculates the confidence interval and margin of error for a given set of data\n",
    "\n",
    "def get_ci(data, alpha):\n",
    "    t_critical = scipy.stats.t.ppf(q = 1.0 - alpha, df = len(data) - 1)\n",
    "    margin_of_error = t_critical * (data.std()/len(data)**0.5)\n",
    "    confidence_interval = (data.mean() - margin_of_error, data.mean() + margin_of_error) \n",
    "    return margin_of_error, confidence_interval                   \n"
   ]
  },
  {
   "cell_type": "code",
   "execution_count": 19,
   "metadata": {
    "collapsed": false,
    "nbpresent": {
     "id": "781ebb59-7730-413c-aedb-a52fd8a33dc6"
    },
    "slideshow": {
     "slide_type": "skip"
    }
   },
   "outputs": [
    {
     "data": {
      "text/plain": [
       "(0.10653644509588847, (98.142694324134894, 98.355767214326661))"
      ]
     },
     "execution_count": 19,
     "metadata": {},
     "output_type": "execute_result"
    }
   ],
   "source": [
    "# get the confidence interval for the temperature data that gives a 95% confidence level that the true mean falls within it\n",
    "get_ci(tdf, 0.05)"
   ]
  },
  {
   "cell_type": "markdown",
   "metadata": {
    "nbpresent": {
     "id": "9ba910a7-5bc8-43a7-8538-0f8a56ecfe1f"
    },
    "slideshow": {
     "slide_type": "slide"
    }
   },
   "source": [
    "** We are 95% confident that the true mean temperature of the population falls within 98.14 and 98.36 degrees Fahrenheit.**"
   ]
  },
  {
   "cell_type": "code",
   "execution_count": 20,
   "metadata": {
    "collapsed": false,
    "nbpresent": {
     "id": "af60f06e-a5fc-424e-a917-c7a5c06770a6"
    },
    "slideshow": {
     "slide_type": "slide"
    }
   },
   "outputs": [
    {
     "data": {
      "text/plain": [
       "<matplotlib.text.Text at 0xdbfd320>"
      ]
     },
     "execution_count": 20,
     "metadata": {},
     "output_type": "execute_result"
    },
    {
     "data": {
      "image/png": "[encoded data removed]",
      "text/plain": [
       "<matplotlib.figure.Figure at 0xdb2c550>"
      ]
     },
     "metadata": {},
     "output_type": "display_data"
    }
   ],
   "source": [
    "fig, ax = plt.subplots()\n",
    "sns.distplot(tdf, fit=norm,kde=False)\n",
    "plt.vlines(ymin=0.0, ymax= 0.55,x=tdf.mean(),linewidth=2.0, color=\"red\", label='pop mean: 98.25' )\n",
    "plt.errorbar(x=98.25, y=0.01, xerr=0.106,capthick=2, capsize=5, label='CI: 98.14 to 98.36' )\n",
    "plt.legend()\n",
    "plt.title('Distribution of Body Temperature, Mean, and 95% Confidence Interval')"
   ]
  },
  {
   "cell_type": "markdown",
   "metadata": {
    "nbpresent": {
     "id": "b469229b-d788-4020-a431-3cea33806881"
    },
    "slideshow": {
     "slide_type": "slide"
    }
   },
   "source": [
    "** What is the range of temperature that we should consider to be \"normal\"?**"
   ]
  },
  {
   "cell_type": "markdown",
   "metadata": {
    "nbpresent": {
     "id": "1180fc34-4d25-4f7a-8c27-85c79d01f499"
    },
    "slideshow": {
     "slide_type": "slide"
    }
   },
   "source": [
    "PerCent of Data under a Normal Distribution Curve Based on Number of Standard Deviations from the Mean"
   ]
  },
  {
   "cell_type": "markdown",
   "metadata": {
    "nbpresent": {
     "id": "9818903a-dbcd-42fa-903d-b77743153c40"
    },
    "slideshow": {
     "slide_type": "slide"
    }
   },
   "source": [
    "![alt text](Normal-distribution-curve.jpg \"Normal Distribution Curve\")"
   ]
  },
  {
   "cell_type": "markdown",
   "metadata": {
    "nbpresent": {
     "id": "5ef8a222-518b-41d8-8d01-f55c19cee90d"
    },
    "slideshow": {
     "slide_type": "slide"
    }
   },
   "source": [
    "Let's assume that all of the samples taken were from healthy subjects.  Then we can assume that close to 100% of the samples are considered normal. If we look at the normal distribution curve, we see that 3 standard deviations in both directions from the mean gives us 99.7% of the possible data values.  So let's calculate the standard deviation and multiply by three in either direction of the mean to get our range of normal temperatures."
   ]
  },
  {
   "cell_type": "code",
   "execution_count": 21,
   "metadata": {
    "collapsed": false,
    "nbpresent": {
     "id": "4a30e5cc-f147-44e2-abda-2b878026380f"
    },
    "slideshow": {
     "slide_type": "skip"
    }
   },
   "outputs": [
    {
     "data": {
      "text/plain": [
       "(96.04968129511394, 100.44878024334761)"
      ]
     },
     "execution_count": 21,
     "metadata": {},
     "output_type": "execute_result"
    }
   ],
   "source": [
    "range = (tdf.mean() - 3 * tdf.std(), tdf.mean() + 3 * tdf.std())\n",
    "range"
   ]
  },
  {
   "cell_type": "code",
   "execution_count": 22,
   "metadata": {
    "collapsed": false,
    "nbpresent": {
     "id": "40e0d12b-1e1b-45d8-827f-255d280eb436"
    },
    "slideshow": {
     "slide_type": "skip"
    }
   },
   "outputs": [
    {
     "data": {
      "text/plain": [
       "(96.299999999999997, 100.8)"
      ]
     },
     "execution_count": 22,
     "metadata": {},
     "output_type": "execute_result"
    }
   ],
   "source": [
    "#compare this to the max and min values\n",
    "tdf.min(), tdf.max()"
   ]
  },
  {
   "cell_type": "markdown",
   "metadata": {
    "nbpresent": {
     "id": "3cd8633c-b68d-4665-b71c-0998516260a1"
    },
    "slideshow": {
     "slide_type": "slide"
    }
   },
   "source": [
    "\n",
    "**We can say that 99.7% of \"normal\" temperatures will fall in the range of 96.05 to 100.45 degrees Fahrenheit.**"
   ]
  },
  {
   "cell_type": "code",
   "execution_count": 23,
   "metadata": {
    "collapsed": false,
    "nbpresent": {
     "id": "85500970-eb85-492b-831e-fb104639edf7"
    },
    "slideshow": {
     "slide_type": "slide"
    }
   },
   "outputs": [
    {
     "data": {
      "text/plain": [
       "<matplotlib.text.Text at 0xdeeeba8>"
      ]
     },
     "execution_count": 23,
     "metadata": {},
     "output_type": "execute_result"
    },
    {
     "data": {
      "image/png": "[encoded data removed]",
      "text/plain": [
       "<matplotlib.figure.Figure at 0xc10e400>"
      ]
     },
     "metadata": {},
     "output_type": "display_data"
    }
   ],
   "source": [
    "fig, ax = plt.subplots()\n",
    "sns.distplot(tdf, fit=norm,kde=False)\n",
    "#plt.vlines(ymin=0.0, ymax= 0.05,x=96.05,linewidth=2.0, color=\"pink\", label='normal min: 96.05' )\n",
    "plt.vlines(ymin=0.0, ymax= 0.55,x=tdf.mean(),linewidth=2.0, color=\"red\", label='pop mean: 98.25' )\n",
    "#plt.vlines(ymin=0.0, ymax= 0.05,x=100.45,linewidth=2.0, color=\"palevioletred\", label='normal max: 100.45' )\n",
    "plt.errorbar(x=98.25, y=0.025, xerr=3*tdf.std(),capthick=2, capsize=10, label='Range: 96.05 to 100.45' )\n",
    "plt.legend()\n",
    "plt.title('Range of Normal Body Temperature: +/- 3 Standard Deviations from Mean')"
   ]
  },
  {
   "cell_type": "markdown",
   "metadata": {
    "nbpresent": {
     "id": "8478b844-f0e4-40e0-b057-5446a465662b"
    },
    "slideshow": {
     "slide_type": "slide"
    }
   },
   "source": [
    "# Is there a significant difference between males and females in normal temperature?"
   ]
  },
  {
   "cell_type": "code",
   "execution_count": 24,
   "metadata": {
    "collapsed": false,
    "nbpresent": {
     "id": "c3f1059b-eaa1-4615-9dd1-55e578012df2"
    },
    "slideshow": {
     "slide_type": "skip"
    }
   },
   "outputs": [],
   "source": [
    "# Let's separate the data into two groups: one with females, fdf, and one with males, mdf.\n",
    "fdf = df[df.gender == 'F']['temperature']\n",
    "mdf = df[df.gender == 'M']['temperature']"
   ]
  },
  {
   "cell_type": "code",
   "execution_count": 25,
   "metadata": {
    "collapsed": false,
    "nbpresent": {
     "id": "d691ef90-bf32-46ae-8c7a-dc777785f306"
    },
    "slideshow": {
     "slide_type": "skip"
    }
   },
   "outputs": [
    {
     "data": {
      "text/plain": [
       "98.39384615384613"
      ]
     },
     "execution_count": 25,
     "metadata": {},
     "output_type": "execute_result"
    }
   ],
   "source": [
    "# what is the mean of the female group?\n",
    "fdf.mean()"
   ]
  },
  {
   "cell_type": "markdown",
   "metadata": {
    "nbpresent": {
     "id": "105ba792-12b9-475f-87de-e828a5b8cbff"
    },
    "slideshow": {
     "slide_type": "skip"
    }
   },
   "source": [
    "The mean temperature of the female population is 98.4 degrees F."
   ]
  },
  {
   "cell_type": "code",
   "execution_count": 26,
   "metadata": {
    "collapsed": false,
    "nbpresent": {
     "id": "b1fc59df-e2c1-4ddf-9fc6-216180c05f45"
    }
   },
   "outputs": [
    {
     "data": {
      "text/plain": [
       "98.1046153846154"
      ]
     },
     "execution_count": 26,
     "metadata": {},
     "output_type": "execute_result"
    }
   ],
   "source": [
    "# what is the mean of the male group?\n",
    "mdf.mean()"
   ]
  },
  {
   "cell_type": "markdown",
   "metadata": {
    "nbpresent": {
     "id": "dd31bf53-afcf-48c8-a8c9-3175e91794ac"
    },
    "slideshow": {
     "slide_type": "skip"
    }
   },
   "source": [
    "The mean temperature of the male population is 98.1 degrees F."
   ]
  },
  {
   "cell_type": "markdown",
   "metadata": {
    "nbpresent": {
     "id": "068e8f6f-2e52-4c94-8166-b5a04d054578"
    }
   },
   "source": [
    "## Signicance Testing for the Difference in Means between Males and Females"
   ]
  },
  {
   "cell_type": "raw",
   "metadata": {
    "nbpresent": {
     "id": "a16045fd-167f-4a01-8d7a-11e63b157335"
    },
    "slideshow": {
     "slide_type": "skip"
    }
   },
   "source": [
    "We would like to know how likely it is that the difference in means between males and females is due to chance.  We will find the sampling distribution of the difference in the means.  We will set the null hypothesis as there is no difference between the means.  Then we will check to see what the probability is that the difference is what it is.  If the probability is less than 5%, we will reject the null hypothesis and determine that the difference in means is significant. This is a two sample t-test for equal means."
   ]
  },
  {
   "cell_type": "code",
   "execution_count": 27,
   "metadata": {
    "collapsed": false,
    "nbpresent": {
     "id": "f5eec3ed-ac9f-43a8-8ef4-9f64c09545be"
    },
    "slideshow": {
     "slide_type": "skip"
    }
   },
   "outputs": [
    {
     "data": {
      "text/plain": [
       "0.488259615384615"
      ]
     },
     "execution_count": 27,
     "metadata": {},
     "output_type": "execute_result"
    }
   ],
   "source": [
    "# check to see if the variances are the same between the male and female groups\n",
    "mdf.var() "
   ]
  },
  {
   "cell_type": "code",
   "execution_count": 28,
   "metadata": {
    "collapsed": false,
    "nbpresent": {
     "id": "a1498284-b17d-4ea4-830d-a4cc9e9fe4e9"
    },
    "slideshow": {
     "slide_type": "skip"
    }
   },
   "outputs": [
    {
     "data": {
      "text/plain": [
       "0.5527740384615375"
      ]
     },
     "execution_count": 28,
     "metadata": {},
     "output_type": "execute_result"
    }
   ],
   "source": [
    "fdf.var()"
   ]
  },
  {
   "cell_type": "code",
   "execution_count": 29,
   "metadata": {
    "collapsed": false,
    "nbpresent": {
     "id": "05f8c185-9ab5-4079-9b2d-3664b91c5b20"
    },
    "slideshow": {
     "slide_type": "slide"
    }
   },
   "outputs": [
    {
     "data": {
      "text/plain": [
       "Ttest_indResult(statistic=-2.2854345381656112, pvalue=0.023938264182934196)"
      ]
     },
     "execution_count": 29,
     "metadata": {},
     "output_type": "execute_result"
    }
   ],
   "source": [
    "# conduct a two-sided test for the null hypothesis that 2 independent samples have identical average (expected) values.\n",
    "scipy.stats.ttest_ind(mdf,fdf, equal_var = False)"
   ]
  },
  {
   "cell_type": "markdown",
   "metadata": {
    "nbpresent": {
     "id": "e8adca45-6fe7-42b8-94a2-ab96a799cd2b"
    },
    "slideshow": {
     "slide_type": "slide"
    }
   },
   "source": [
    "**Since the p-value is low, we reject the null hypothesis that the samples have identical means. And we conclude that the difference in means is not due to chance.**"
   ]
  },
  {
   "cell_type": "markdown",
   "metadata": {
    "nbpresent": {
     "id": "6fc6f221-6e82-4bed-a5e9-89a5fc6168c5"
    },
    "slideshow": {
     "slide_type": "slide"
    }
   },
   "source": [
    "Another way to analyze the significance of the difference in the means is to compute the confidence interval for the means of each group and then determine if they overlap."
   ]
  },
  {
   "cell_type": "code",
   "execution_count": 30,
   "metadata": {
    "collapsed": false,
    "nbpresent": {
     "id": "191ebeec-c4ab-4eef-a360-e79426965031"
    },
    "slideshow": {
     "slide_type": "slide"
    }
   },
   "outputs": [
    {
     "data": {
      "text/plain": [
       "(0.14465333470037595, (97.959962049915021, 98.249268719315779))"
      ]
     },
     "execution_count": 30,
     "metadata": {},
     "output_type": "execute_result"
    }
   ],
   "source": [
    "# find the margin of error and confidence interval for the male population\n",
    "get_ci(mdf, 0.05)"
   ]
  },
  {
   "cell_type": "code",
   "execution_count": 31,
   "metadata": {
    "collapsed": false,
    "nbpresent": {
     "id": "5a9610ad-e206-4125-8f16-2e4d55b8f2fe"
    },
    "slideshow": {
     "slide_type": "slide"
    }
   },
   "outputs": [
    {
     "data": {
      "text/plain": [
       "(0.15391355397683856, (98.239932599869292, 98.547759707822962))"
      ]
     },
     "execution_count": 31,
     "metadata": {},
     "output_type": "execute_result"
    }
   ],
   "source": [
    "# Find the margin of error and confidence interval for the female population\n",
    "get_ci(fdf, 0.05)"
   ]
  },
  {
   "cell_type": "code",
   "execution_count": 32,
   "metadata": {
    "collapsed": false,
    "nbpresent": {
     "id": "bc160906-5594-4ccd-a154-385b9b0d1310"
    },
    "scrolled": true,
    "slideshow": {
     "slide_type": "slide"
    }
   },
   "outputs": [
    {
     "data": {
      "text/plain": [
       "<matplotlib.text.Text at 0xe0eaac8>"
      ]
     },
     "execution_count": 32,
     "metadata": {},
     "output_type": "execute_result"
    },
    {
     "data": {
      "image/png": "[encoded data removed]",
      "text/plain": [
       "<matplotlib.figure.Figure at 0xe0ee7f0>"
      ]
     },
     "metadata": {},
     "output_type": "display_data"
    }
   ],
   "source": [
    "#plot the confidence intervals\n",
    "plt.figure(figsize=(8,5))\n",
    "#fig.subplots_adjust(bottom=0.5)\n",
    "sample_means = [fdf.mean(),mdf.mean()]\n",
    "intervals = [(98.239932599869292, 98.547759707822962),(97.959962049915021, 98.249268719315779)]\n",
    "plt.errorbar(x=np.arange(1,3,1), y=sample_means, yerr=[(top-bot)/2 for top,bot in intervals], fmt='o',capthick=3, capsize=10)\n",
    "plt.hlines(xmin=0, xmax=3, y=fdf.mean(), linewidth=2.0, color=\"lightblue\", label='98.39, female mean')\n",
    "plt.hlines(xmin=0, xmax=3, y=tdf.mean(), linewidth=2.0, color=\"pink\", label='98.25, population mean')\n",
    "plt.hlines(xmin=0, xmax=3, y=mdf.mean(), linewidth=2.0, color=\"lightgoldenrodyellow\", label='98.1, male mean')\n",
    "\n",
    "plt.title('Confidence Intervals for Male and Female Mean Body Temperatures')\n",
    "plt.legend()\n",
    "locs= [0.0,0.5,1.0,1.5,2.0,2.5,3.0]\n",
    "labels= ['','','Male','','Female','','']\n",
    "plt.xticks(locs, labels)    \n",
    "plt.ylabel('Body Temperature')           "
   ]
  },
  {
   "cell_type": "markdown",
   "metadata": {
    "nbpresent": {
     "id": "58a10f77-f16d-4ad8-ac7b-62b9cef3532c"
    },
    "slideshow": {
     "slide_type": "slide"
    }
   },
   "source": [
    "## Is the difference in male and female mean body temperatures statistsically significant?"
   ]
  },
  {
   "cell_type": "markdown",
   "metadata": {
    "nbpresent": {
     "id": "c2a308e7-a5f5-4619-a0f4-cb0769029ec1"
    },
    "slideshow": {
     "slide_type": "slide"
    }
   },
   "source": [
    "Statistical significance occurs for values that are more than two standard deviations from the mean.  Let's see how far from the true population mean the female and male means are."
   ]
  },
  {
   "cell_type": "code",
   "execution_count": 33,
   "metadata": {
    "collapsed": false,
    "nbpresent": {
     "id": "8d33650e-fd84-4eb0-801d-a03b7d534a66"
    }
   },
   "outputs": [
    {
     "data": {
      "text/plain": [
       "0.0014719238357705211"
      ]
     },
     "execution_count": 33,
     "metadata": {},
     "output_type": "execute_result"
    }
   ],
   "source": [
    "# how many std deviations is the female mean away from the mean?\n",
    "abs(fdf.mean() - tdf.mean())/tdf.mean()"
   ]
  },
  {
   "cell_type": "code",
   "execution_count": 34,
   "metadata": {
    "collapsed": false,
    "nbpresent": {
     "id": "0d849f74-12bc-46a5-8377-19fa0054f08b"
    }
   },
   "outputs": [
    {
     "data": {
      "text/plain": [
       "0.0014719238357708106"
      ]
     },
     "execution_count": 34,
     "metadata": {},
     "output_type": "execute_result"
    }
   ],
   "source": [
    "# how many std deviations is the male mean away from the mean?\n",
    "abs(mdf.mean() - tdf.mean())/tdf.mean()"
   ]
  },
  {
   "cell_type": "markdown",
   "metadata": {
    "nbpresent": {
     "id": "b6d5f2bc-ed38-499d-9e25-b42838ad78c7"
    },
    "slideshow": {
     "slide_type": "slide"
    }
   },
   "source": [
    "**The male and female means are 0.0015 standard deviations away from the mean.  Therefore, the difference is NOT statistically significant.**"
   ]
  },
  {
   "cell_type": "code",
   "execution_count": 35,
   "metadata": {
    "collapsed": false,
    "nbpresent": {
     "id": "95f4c188-2044-4b80-a290-08724847ce6c"
    },
    "scrolled": false,
    "slideshow": {
     "slide_type": "slide"
    }
   },
   "outputs": [
    {
     "data": {
      "image/png": "[encoded data removed]",
      "text/plain": [
       "<matplotlib.figure.Figure at 0xdc8fe10>"
      ]
     },
     "metadata": {},
     "output_type": "display_data"
    }
   ],
   "source": [
    "# plot the distribution of male and female body temperatures and save it for use in the Data Story\n",
    "fig, ax = plt.subplots()\n",
    "sns.distplot(fdf, fit=norm,kde=False, label='female')\n",
    "sns.distplot(mdf, fit=norm,kde=False, label='male')\n",
    "plt.vlines(ymin=0.0, ymax= 0.05,x=mdf.mean(),linewidth=2.0, color=\"lightblue\", label='male mean: 98.1' )\n",
    "plt.vlines(ymin=0.0, ymax= 0.55,x=tdf.mean(),linewidth=2.0, color=\"red\", label='pop mean: 98.25' )\n",
    "plt.vlines(ymin=0.0, ymax= 0.05,x=fdf.mean(),linewidth=2.0, color=\"lightgoldenrodyellow\", label='female mean: 98.39' )\n",
    "plt.legend()\n",
    "plt.title('Distribution of Body Temperature for Males and Females')\n",
    "plt.savefig('mybodytemp')"
   ]
  },
  {
   "cell_type": "markdown",
   "metadata": {
    "nbpresent": {
     "id": "55f00d13-def1-4402-ae77-3c93adc2b0a6"
    }
   },
   "source": [
    "## Conclusion"
   ]
  },
  {
   "cell_type": "markdown",
   "metadata": {
    "nbpresent": {
     "id": "26237981-5b4b-443c-b98a-fc518010fc87"
    },
    "slideshow": {
     "slide_type": "slide"
    }
   },
   "source": [
    "\n",
    "\n",
    "\n",
    "\n",
    "\n",
    "\n",
    "\n",
    "\n",
    "\n",
    "\n",
    "\n",
    "<h2 align=\"center\">An Examination of Human Body Temperature in Healthy Individuals</h2> "
   ]
  },
  {
   "cell_type": "markdown",
   "metadata": {
    "nbpresent": {
     "id": "61aa23f9-e4dd-4c5d-936b-3c537a3b8846"
    },
    "slideshow": {
     "slide_type": "slide"
    }
   },
   "source": [
    "## Problem/Questions\n",
    "* What is the true mean for human body temperature?\n",
    "* What is the range of temperature that should be considered \"normal\"?\n",
    "* Is there a difference in mean body temperature in males and females? "
   ]
  },
  {
   "cell_type": "markdown",
   "metadata": {
    "nbpresent": {
     "id": "2bb227ae-c9b3-4333-9cd2-80b825f6950d"
    },
    "slideshow": {
     "slide_type": "slide"
    }
   },
   "source": [
    "## Background\n",
    "* For 120 years 98.6 degrees Fahreneheit has been considered the mean for human body temperature as reported by Carl Wunderlich.\n",
    "* In 1992, the Journal of Statistics published an article which suggested a true mean of 98.25 based on temperatures gathered from 700 subjects over a 2 day period.\n",
    "* The data set used in this study is a subset of the original data. It was created by Allen Shoemaker of Calvin College in 1996 and is comprised of 130 observations, half male and half female, of body temperature and heart rate."
   ]
  },
  {
   "cell_type": "markdown",
   "metadata": {
    "nbpresent": {
     "id": "25950b4f-08da-4237-b37e-058bc20aa261"
    },
    "slideshow": {
     "slide_type": "slide"
    }
   },
   "source": [
    "## Data Analysis Summary\n",
    "\n",
    "* A one sample t-test was used to compare the mean of the sample to the \"known\" population mean.\n",
    "    * The mean of the sample is 98.25 degrees Fahrenheit.\n",
    "    * The t-test proved that mean of the sample is the true mean of the population, **98.25 degrees Fahrenheit**.\n",
    "    * With **95% confidence level** the true population mean is between 98.14 and 98.36 degrees Fahrenheit.\n",
    "    \n",
    "* The range of temperatures that comprises 99.7 per cent of the values was used to determine the range of normal temperatures.\n",
    "    * Range of **normal temperature** is **96.05 to 100.45** degrees Fahrenheit.\n",
    "    \n",
    "* The mean of body temperature for males and females was calculated.\n",
    "    * **Male mean** temperature is **98.1 degrees Fahrenheit**.\n",
    "    * **Female mean** temperatue is **98.39 degrees Fahrenheit**.\n",
    "    \n",
    "* A two sample t-test proved that the **difference** in male and female mean body temperatures is **not due to chance**.\n",
    "    * The probability of the two samples having identical means is 2.4%.\n",
    "    \n",
    "* The differences between male and female means to the population mean was found to be **not statistically significant**.\n",
    "    * Statistical significance occurs when a value is 1 or more standard deviations from the mean. Their difference is 0.0015 standard deviations from the population mean."
   ]
  },
  {
   "cell_type": "markdown",
   "metadata": {
    "nbpresent": {
     "id": "56ad6a2d-126b-44b9-9fab-1d6e81c54001"
    },
    "slideshow": {
     "slide_type": "slide"
    }
   },
   "source": [
    "![Alt Text](mybodytemp.png)"
   ]
  },
  {
   "cell_type": "markdown",
   "metadata": {
    "nbpresent": {
     "id": "7263a8a5-8822-4764-b902-7e1e862f1aa9"
    },
    "slideshow": {
     "slide_type": "slide"
    }
   },
   "source": [
    "## Conclusions\n",
    "* The true mean human body temperature is 98.25 +/- 0.11 degrees Fahrenheit.\n",
    "* While there is a difference in male and female mean body temperatures, the differences when compared to the population mean are not statistically significant. \n",
    "* Assuming all the subjects in the study were healthy, we can conclude that the range of normal body temperature is 96.05 to 100.45 degrees Fahrenheit."
   ]
  },
  {
   "cell_type": "markdown",
   "metadata": {
    "nbpresent": {
     "id": "abb69610-4de2-4078-b2c1-863f77791fcb"
    },
    "slideshow": {
     "slide_type": "slide"
    }
   },
   "source": [
    "## Recommendations\n",
    "* Knowing the difference in mean temperatures for certain vulnerable portions of the population such as infants, the elderly, or those with depressed immunity(i.e. someone taking chemotherapy) may be important in insuring prompt treatment.\n",
    "* Educate medical personnel regarding the differences in means among different population groups.\n",
    "* Have medical personnel include in their medical notes the details of how the temperature reading was obtained including time of day, type of thermometer used, etc."
   ]
  },
  {
   "cell_type": "markdown",
   "metadata": {
    "nbpresent": {
     "id": "e8cd8f51-11d4-4e45-8c61-87387ad7744e"
    },
    "slideshow": {
     "slide_type": "slide"
    }
   },
   "source": [
    "![Alt Text](thermowarsfunnies2.jpg)"
   ]
  },
  {
   "cell_type": "code",
   "execution_count": null,
   "metadata": {
    "collapsed": true
   },
   "outputs": [],
   "source": []
  }
 ],
 "metadata": {
  "anaconda-cloud": {},
  "kernelspec": {
   "display_name": "Python [default]",
   "language": "python",
   "name": "python2"
  },
  "language_info": {
   "codemirror_mode": {
    "name": "ipython",
    "version": 2
   },
   "file_extension": ".py",
   "mimetype": "text/x-python",
   "name": "python",
   "nbconvert_exporter": "python",
   "pygments_lexer": "ipython2",
   "version": "2.7.12"
  },
  "nbpresent": {
   "slides": {
    "083263dd-6425-4f91-8dbb-b57df228ae65": {
     "id": "083263dd-6425-4f91-8dbb-b57df228ae65",
     "prev": "102ca801-7e8c-489f-97e9-361ae3a10ffd",
     "regions": {
      "9754aced-18a4-4df2-ae4f-7cc9e556c1ec": {
       "attrs": {
        "height": 1,
        "width": 1,
        "x": 0,
        "y": 0
       },
       "content": {
        "cell": "95f4c188-2044-4b80-a290-08724847ce6c",
        "part": "outputs"
       },
       "id": "9754aced-18a4-4df2-ae4f-7cc9e556c1ec"
      }
     }
    },
    "102ca801-7e8c-489f-97e9-361ae3a10ffd": {
     "id": "102ca801-7e8c-489f-97e9-361ae3a10ffd",
     "prev": "2d1ecbfd-dc3a-4dd3-be90-d870834454d3",
     "regions": {
      "ce96d662-a52a-4992-ad08-77d02934c860": {
       "attrs": {
        "height": 1,
        "width": 1,
        "x": 0,
        "y": 0
       },
       "id": "ce96d662-a52a-4992-ad08-77d02934c860"
      }
     }
    },
    "1934136a-30ae-4366-ad23-f26881dbf822": {
     "id": "1934136a-30ae-4366-ad23-f26881dbf822",
     "layout": "manual",
     "prev": null,
     "regions": {
      "7a78a9ff-3421-464f-9d5e-65f72a8ede0c": {
       "attrs": {
        "height": 0.6418685215651431,
        "pad": 0.01,
        "treemap:weight": 1,
        "width": 1,
        "x": -6.482703476110205e-19,
        "y": 0.35813147843485693
       },
       "content": {
        "cell": "26237981-5b4b-443c-b98a-fc518010fc87",
        "part": "source"
       },
       "id": "7a78a9ff-3421-464f-9d5e-65f72a8ede0c",
       "treemap:weight": 0.5
      }
     }
    },
    "2103140c-0977-40d3-9e0a-8f82a4634b52": {
     "id": "2103140c-0977-40d3-9e0a-8f82a4634b52",
     "prev": "3fae7c24-08b6-4903-a25f-6de7f50ea711",
     "regions": {
      "2c6777a7-2aed-4873-bddc-b85de4e840a3": {
       "attrs": {
        "height": 0.3224913620868575,
        "width": 0.9488970548927531,
        "x": 0.029930797697527992,
        "y": 0.042906575901689475
       },
       "content": {
        "cell": "8a2ecf0d-cfe0-4444-b811-5aeba7285700",
        "part": "whole"
       },
       "id": "2c6777a7-2aed-4873-bddc-b85de4e840a3"
      },
      "98e553a0-b77c-4a09-891d-ed74dc1a4bb5": {
       "attrs": {
        "height": 0.15640140107359066,
        "width": 0.9401384046049441,
        "x": 0.029930797697528034,
        "y": 0.4010380543365464
       },
       "content": {
        "cell": "1a743bba-2f93-4a2b-b7ed-b3e49a5ac857",
        "part": "source"
       },
       "id": "98e553a0-b77c-4a09-891d-ed74dc1a4bb5"
      },
      "b90a5074-b37a-4616-af01-d454ba393c47": {
       "attrs": {
        "height": 0.3847750974668328,
        "width": 0.9459775047968167,
        "x": 0.0270112476015917,
        "y": 0.5878892604764717
       },
       "content": {
        "cell": "581332b2-ef55-4f05-81eb-269c35406017",
        "part": "source"
       },
       "id": "b90a5074-b37a-4616-af01-d454ba393c47"
      }
     }
    },
    "2d1ecbfd-dc3a-4dd3-be90-d870834454d3": {
     "id": "2d1ecbfd-dc3a-4dd3-be90-d870834454d3",
     "prev": "c304d564-be1f-49d8-900a-db222626f619",
     "regions": {
      "4c1cb7a3-7e6d-42c3-a47d-7869725376f1": {
       "attrs": {
        "height": 1,
        "width": 1,
        "x": 0,
        "y": 0
       },
       "content": {
        "cell": "7263a8a5-8822-4764-b902-7e1e862f1aa9",
        "part": "source"
       },
       "id": "4c1cb7a3-7e6d-42c3-a47d-7869725376f1"
      }
     }
    },
    "325a6066-d1fc-47f4-aaeb-7f0ccda3a1a1": {
     "id": "325a6066-d1fc-47f4-aaeb-7f0ccda3a1a1",
     "prev": "1934136a-30ae-4366-ad23-f26881dbf822",
     "regions": {
      "26b3c6c7-2bae-40a3-bef8-0c7505a5198c": {
       "attrs": {
        "height": 1,
        "width": 1,
        "x": 0,
        "y": 0
       },
       "content": {
        "cell": "61aa23f9-e4dd-4c5d-936b-3c537a3b8846",
        "part": "source"
       },
       "id": "26b3c6c7-2bae-40a3-bef8-0c7505a5198c"
      }
     }
    },
    "338d6113-f153-48f5-9dd5-cd8ce393c2b8": {
     "id": "338d6113-f153-48f5-9dd5-cd8ce393c2b8",
     "prev": "6d4a3bf4-3852-42cf-80e2-2ae7307a7260",
     "regions": {
      "51cc3d19-62bf-4eb3-867c-1aef08da6d0c": {
       "attrs": {
        "height": 1,
        "width": 1,
        "x": 0,
        "y": 0
       },
       "id": "51cc3d19-62bf-4eb3-867c-1aef08da6d0c"
      }
     }
    },
    "3fae7c24-08b6-4903-a25f-6de7f50ea711": {
     "id": "3fae7c24-08b6-4903-a25f-6de7f50ea711",
     "layout": "manual",
     "prev": "441bd41f-ba9a-489a-82c4-5baf55009cdd",
     "regions": {
      "ff751ad7-0ad2-4d61-a81d-2671c734b70d": {
       "attrs": {
        "height": 1,
        "width": 1,
        "x": -0.002919550095936334,
        "y": 0
       },
       "content": {
        "cell": "698278e5-86a8-4898-9453-4464c260387a",
        "part": "whole"
       },
       "id": "ff751ad7-0ad2-4d61-a81d-2671c734b70d"
      }
     }
    },
    "441bd41f-ba9a-489a-82c4-5baf55009cdd": {
     "id": "441bd41f-ba9a-489a-82c4-5baf55009cdd",
     "prev": "325a6066-d1fc-47f4-aaeb-7f0ccda3a1a1",
     "regions": {
      "e399bd30-a80c-45b8-82c2-2ffba1544221": {
       "attrs": {
        "height": 1,
        "width": 1,
        "x": 0,
        "y": 0
       },
       "content": {
        "cell": "2bb227ae-c9b3-4333-9cd2-80b825f6950d",
        "part": "source"
       },
       "id": "e399bd30-a80c-45b8-82c2-2ffba1544221"
      }
     }
    },
    "6d4a3bf4-3852-42cf-80e2-2ae7307a7260": {
     "id": "6d4a3bf4-3852-42cf-80e2-2ae7307a7260",
     "prev": "e525cca4-af11-4809-adeb-f3954b600df7",
     "regions": {
      "3b8ce673-f451-4c2e-a9af-9b5f0d844351": {
       "attrs": {
        "height": 1,
        "width": 1,
        "x": 0,
        "y": 0
       },
       "id": "3b8ce673-f451-4c2e-a9af-9b5f0d844351"
      }
     }
    },
    "7d090974-d4b5-4339-ad13-3875e556b1a7": {
     "id": "7d090974-d4b5-4339-ad13-3875e556b1a7",
     "prev": "b7606d0f-4743-464e-a3fe-f113997893b5",
     "regions": {
      "2a028568-5d9c-4f90-87c3-254f814303f2": {
       "attrs": {
        "height": 1,
        "width": 1,
        "x": 0,
        "y": 0
       },
       "id": "2a028568-5d9c-4f90-87c3-254f814303f2"
      }
     }
    },
    "934580f3-e954-47e4-bfdf-039496040dfe": {
     "id": "934580f3-e954-47e4-bfdf-039496040dfe",
     "prev": "083263dd-6425-4f91-8dbb-b57df228ae65",
     "regions": {
      "ae27e8dd-eafe-4900-8af8-2a1397fe0a47": {
       "attrs": {
        "height": 1,
        "width": 1,
        "x": 0,
        "y": 0
       },
       "id": "ae27e8dd-eafe-4900-8af8-2a1397fe0a47"
      }
     }
    },
    "9f241bc4-17aa-4a13-96d0-9b4dd7e9a283": {
     "id": "9f241bc4-17aa-4a13-96d0-9b4dd7e9a283",
     "prev": "ab6a83ce-67ca-486c-b7df-5a25364612a6",
     "regions": {
      "5cb6f528-4211-49f3-ac48-7200709a1114": {
       "attrs": {
        "height": 0.833910038986733,
        "width": 1,
        "x": 0,
        "y": 0.16608996101326698
       },
       "content": {
        "cell": "9818903a-dbcd-42fa-903d-b77743153c40",
        "part": "whole"
       },
       "id": "5cb6f528-4211-49f3-ac48-7200709a1114"
      },
      "9be9ccc4-be04-42c7-ab88-efb8487bc318": {
       "attrs": {
        "height": 0.1512110897919259,
        "width": 0.9839316560439891,
        "x": 0.0036548468341009843,
        "y": 0.01695501949336651
       },
       "content": {
        "cell": "1180fc34-4d25-4f7a-8c27-85c79d01f499",
        "part": "source"
       },
       "id": "9be9ccc4-be04-42c7-ab88-efb8487bc318"
      }
     }
    },
    "ab261d3d-917e-4b95-b8af-2ab5ada37d47": {
     "id": "ab261d3d-917e-4b95-b8af-2ab5ada37d47",
     "prev": "9f241bc4-17aa-4a13-96d0-9b4dd7e9a283",
     "regions": {
      "4f801b89-e905-414b-89a8-9c0b60129b32": {
       "attrs": {
        "height": 1,
        "width": 1,
        "x": 0,
        "y": 0
       },
       "id": "4f801b89-e905-414b-89a8-9c0b60129b32"
      }
     }
    },
    "ab6a83ce-67ca-486c-b7df-5a25364612a6": {
     "id": "ab6a83ce-67ca-486c-b7df-5a25364612a6",
     "prev": "2103140c-0977-40d3-9e0a-8f82a4634b52",
     "regions": {
      "4c80de3c-9434-465d-94f1-bbc24b754a1e": {
       "attrs": {
        "height": 0.9740484435916771,
        "width": 1,
        "x": -0.002919550095936334,
        "y": 0.01557093384499378
       },
       "content": {
        "cell": "af60f06e-a5fc-424e-a917-c7a5c06770a6",
        "part": "outputs"
       },
       "id": "4c80de3c-9434-465d-94f1-bbc24b754a1e"
      }
     }
    },
    "b7606d0f-4743-464e-a3fe-f113997893b5": {
     "id": "b7606d0f-4743-464e-a3fe-f113997893b5",
     "prev": "338d6113-f153-48f5-9dd5-cd8ce393c2b8",
     "regions": {
      "f3459718-9b2f-4127-88c3-23c3c70bf95b": {
       "attrs": {
        "height": 1,
        "width": 1,
        "x": 0,
        "y": 0
       },
       "content": {
        "cell": "85500970-eb85-492b-831e-fb104639edf7",
        "part": "outputs"
       },
       "id": "f3459718-9b2f-4127-88c3-23c3c70bf95b"
      }
     }
    },
    "c304d564-be1f-49d8-900a-db222626f619": {
     "id": "c304d564-be1f-49d8-900a-db222626f619",
     "prev": "7d090974-d4b5-4339-ad13-3875e556b1a7",
     "regions": {
      "d05e87ab-27fa-4d9c-b88f-f8c5d1dab312": {
       "attrs": {
        "height": 1,
        "width": 1,
        "x": 0,
        "y": 0
       },
       "content": {
        "cell": "abb69610-4de2-4078-b2c1-863f77791fcb",
        "part": "source"
       },
       "id": "d05e87ab-27fa-4d9c-b88f-f8c5d1dab312"
      }
     }
    },
    "e525cca4-af11-4809-adeb-f3954b600df7": {
     "id": "e525cca4-af11-4809-adeb-f3954b600df7",
     "prev": "ab261d3d-917e-4b95-b8af-2ab5ada37d47",
     "regions": {
      "4618a45e-d273-4381-a74f-0df5e3858f60": {
       "attrs": {
        "height": 1,
        "width": 1,
        "x": 0,
        "y": 0
       },
       "content": {
        "cell": "bc160906-5594-4ccd-a154-385b9b0d1310",
        "part": "outputs"
       },
       "id": "4618a45e-d273-4381-a74f-0df5e3858f60"
      }
     }
    }
   },
   "themes": {
    "default": "f08329ee-94f8-49a7-b8c5-ec8c9def8b9b",
    "theme": {
     "25d4dd54-a60d-4e4c-8cf7-490ce3299f3b": {
      "backgrounds": {
       "backgroundColor": {
        "background-color": "backgroundColor",
        "id": "backgroundColor"
       }
      },
      "id": "25d4dd54-a60d-4e4c-8cf7-490ce3299f3b",
      "palette": {
       "backgroundColor": {
        "id": "backgroundColor",
        "rgb": [
         34,
         34,
         34
        ]
       },
       "headingColor": {
        "id": "headingColor",
        "rgb": [
         238,
         238,
         238
        ]
       },
       "linkColor": {
        "id": "linkColor",
        "rgb": [
         170,
         34,
         51
        ]
       },
       "mainColor": {
        "id": "mainColor",
        "rgb": [
         238,
         238,
         238
        ]
       }
      },
      "rules": {
       "a": {
        "color": "linkColor"
       },
       "h1": {
        "color": "headingColor",
        "font-family": "Ubuntu",
        "font-size": 7
       },
       "h2": {
        "color": "headingColor",
        "font-family": "Ubuntu",
        "font-size": 5
       },
       "h3": {
        "color": "headingColor",
        "font-family": "Ubuntu",
        "font-size": 3.75
       },
       "h4": {
        "color": "headingColor",
        "font-family": "Ubuntu",
        "font-size": 3
       },
       "h5": {
        "color": "headingColor",
        "font-family": "Ubuntu"
       },
       "h6": {
        "color": "headingColor",
        "font-family": "Ubuntu"
       },
       "h7": {
        "color": "headingColor",
        "font-family": "Ubuntu"
       },
       "li": {
        "color": "mainColor",
        "font-family": "Ubuntu",
        "font-size": 5
       },
       "p": {
        "color": "mainColor",
        "font-family": "Ubuntu",
        "font-size": 5
       }
      },
      "text-base": {
       "color": "mainColor",
       "font-family": "Ubuntu",
       "font-size": 5
      }
     },
     "5c667044-8747-4cb1-b584-3d23dbaa306a": {
      "backgrounds": {
       "backgroundColor": {
        "background-color": "backgroundColor",
        "id": "backgroundColor"
       }
      },
      "id": "5c667044-8747-4cb1-b584-3d23dbaa306a",
      "palette": {
       "backgroundColor": {
        "id": "backgroundColor",
        "rgb": [
         240,
         241,
         235
        ]
       },
       "headingColor": {
        "id": "headingColor",
        "rgb": [
         56,
         61,
         61
        ]
       },
       "linkColor": {
        "id": "linkColor",
        "rgb": [
         81,
         72,
         61
        ]
       },
       "mainColor": {
        "id": "mainColor",
        "rgb": [
         0,
         0,
         0
        ]
       }
      },
      "rules": {
       "a": {
        "color": "linkColor"
       },
       "h1": {
        "color": "headingColor",
        "font-family": "EB Garamond",
        "font-size": 7
       },
       "h2": {
        "color": "headingColor",
        "font-family": "EB Garamond",
        "font-size": 5
       },
       "h3": {
        "color": "headingColor",
        "font-family": "EB Garamond",
        "font-size": 3.75
       },
       "h4": {
        "color": "headingColor",
        "font-family": "EB Garamond",
        "font-size": 3
       },
       "h5": {
        "color": "headingColor",
        "font-family": "EB Garamond"
       },
       "h6": {
        "color": "headingColor",
        "font-family": "EB Garamond"
       },
       "h7": {
        "color": "headingColor",
        "font-family": "EB Garamond"
       },
       "li": {
        "color": "mainColor",
        "font-family": "EB Garamond",
        "font-size": 5
       },
       "p": {
        "color": "mainColor",
        "font-family": "EB Garamond",
        "font-size": 5
       }
      },
      "text-base": {
       "color": "mainColor",
       "font-family": "EB Garamond",
       "font-size": 5
      }
     },
     "72776451-ed93-45f9-a4ad-19b78e2bafea": {
      "id": "72776451-ed93-45f9-a4ad-19b78e2bafea",
      "palette": {
       "19cc588f-0593-49c9-9f4b-e4d7cc113b1c": {
        "id": "19cc588f-0593-49c9-9f4b-e4d7cc113b1c",
        "rgb": [
         252,
         252,
         252
        ]
       },
       "31af15d2-7e15-44c5-ab5e-e04b16a89eff": {
        "id": "31af15d2-7e15-44c5-ab5e-e04b16a89eff",
        "rgb": [
         68,
         68,
         68
        ]
       },
       "50f92c45-a630-455b-aec3-788680ec7410": {
        "id": "50f92c45-a630-455b-aec3-788680ec7410",
        "rgb": [
         155,
         177,
         192
        ]
       },
       "c5cc3653-2ee1-402a-aba2-7caae1da4f6c": {
        "id": "c5cc3653-2ee1-402a-aba2-7caae1da4f6c",
        "rgb": [
         43,
         126,
         184
        ]
       },
       "efa7f048-9acb-414c-8b04-a26811511a21": {
        "id": "efa7f048-9acb-414c-8b04-a26811511a21",
        "rgb": [
         25.118061674008803,
         73.60176211453744,
         107.4819383259912
        ]
       }
      },
      "rules": {
       "blockquote": {
        "color": "50f92c45-a630-455b-aec3-788680ec7410"
       },
       "code": {
        "font-family": "Anonymous Pro"
       },
       "h1": {
        "color": "c5cc3653-2ee1-402a-aba2-7caae1da4f6c",
        "font-family": "Lato",
        "font-size": 8
       },
       "h2": {
        "color": "c5cc3653-2ee1-402a-aba2-7caae1da4f6c",
        "font-family": "Lato",
        "font-size": 6
       },
       "h3": {
        "color": "50f92c45-a630-455b-aec3-788680ec7410",
        "font-family": "Lato",
        "font-size": 5.5
       },
       "h4": {
        "color": "c5cc3653-2ee1-402a-aba2-7caae1da4f6c",
        "font-family": "Lato",
        "font-size": 5
       },
       "h5": {
        "font-family": "Lato"
       },
       "h6": {
        "font-family": "Lato"
       },
       "h7": {
        "font-family": "Lato"
       },
       "pre": {
        "font-family": "Anonymous Pro",
        "font-size": 4
       }
      },
      "text-base": {
       "font-family": "Merriweather",
       "font-size": 4
      }
     },
     "f08329ee-94f8-49a7-b8c5-ec8c9def8b9b": {
      "backgrounds": {
       "backgroundColor": {
        "background-color": "backgroundColor",
        "id": "backgroundColor"
       }
      },
      "id": "f08329ee-94f8-49a7-b8c5-ec8c9def8b9b",
      "palette": {
       "backgroundColor": {
        "id": "backgroundColor",
        "rgb": [
         253,
         246,
         227
        ]
       },
       "headingColor": {
        "id": "headingColor",
        "rgb": [
         88,
         110,
         117
        ]
       },
       "linkColor": {
        "id": "linkColor",
        "rgb": [
         38,
         139,
         210
        ]
       },
       "mainColor": {
        "id": "mainColor",
        "rgb": [
         101,
         123,
         131
        ]
       }
      },
      "rules": {
       "a": {
        "color": "linkColor"
       },
       "h1": {
        "color": "headingColor",
        "font-family": "Oswald",
        "font-size": 7
       },
       "h2": {
        "color": "headingColor",
        "font-family": "Oswald",
        "font-size": 5
       },
       "h3": {
        "color": "headingColor",
        "font-family": "Oswald",
        "font-size": 3.75
       },
       "h4": {
        "color": "headingColor",
        "font-family": "Oswald",
        "font-size": 3
       },
       "h5": {
        "color": "headingColor",
        "font-family": "Oswald"
       },
       "h6": {
        "color": "headingColor",
        "font-family": "Oswald"
       },
       "h7": {
        "color": "headingColor",
        "font-family": "Oswald"
       },
       "li": {
        "color": "mainColor",
        "font-family": "Lato",
        "font-size": 5
       },
       "p": {
        "color": "mainColor",
        "font-family": "Lato",
        "font-size": 5
       }
      },
      "text-base": {
       "color": "mainColor",
       "font-family": "Lato",
       "font-size": 5
      }
     }
    }
   }
  }
 },
 "nbformat": 4,
 "nbformat_minor": 0
}
